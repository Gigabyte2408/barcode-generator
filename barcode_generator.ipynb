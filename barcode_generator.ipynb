{
 "cells": [
  {
   "cell_type": "code",
   "execution_count": null,
   "metadata": {},
   "outputs": [],
   "source": [
    "from Graphics import *\n",
    "#Below is the framework for how barcodes are formed based on a 13 digit input. Divided into the left side and right side of the barcode (left group and right group)\n",
    "L_Group = [\"LLLLLL\", \"LLGLGG\", \"LLGGLG\", \"LLGGGL\", \"LGLLGG\", \\\n",
    "         \"LGGLLG\", \"LGGGLL\", \"LGLGLG\", \"LGLGGL\", \"LGGLGL\"]\n",
    "\n",
    "R_Group = [\"RRRRRR\", \"RRRRRR\", \"RRRRRR\", \"RRRRRR\", \"RRRRRR\", \\\n",
    "         \"RRRRRR\", \"RRRRRR\", \"RRRRRR\", \"RRRRRR\", \"RRRRRR\"]\n",
    "global L_Code\n",
    "L_Code = [\"WWWBBWB\", \"WWBBWWB\", \"WWBWWBB\", \"WBBBBWB\", \"WBWWWBB\", \\\n",
    "         \"WBBWWWB\", \"WBWBBBB\", \"WBBBWBB\", \"WBBWBBB\", \"WWWBWBB\"]\n",
    "\n",
    "G_Code = [\"WBWWBBB\", \"WBBWWBB\", \"WWBBWBB\", \"WBWWWWB\", \"WWBBBWB\", \\\n",
    "         \"WBBBWWB\", \"WWWWBWB\", \"WWBWWWB\", \"WWWBWWB\", \"WWBWBBB\"]\n",
    "\n",
    "R_Code = [\"BBBWWBW\", \"BBWWBBW\", \"BBWBBWW\", \"BWWWWBW\", \"BWBBBWW\", \\\n",
    "         \"BWWBBBW\", \"BWBWWWW\", \"BWWWBWW\", \"BWWBWWW\", \"BBBWBWW\"]"
   ]
  },
  {
   "cell_type": "code",
   "execution_count": null,
   "metadata": {},
   "outputs": [],
   "source": [
    "#A Padleft function to add the necessary amount of 0's to the barcode generator so that if less than 13 numbers are inputted, the system will fill the rest with zeros.\n",
    "def PadLeft (S, N):\n",
    "    zlen = len(S)\n",
    "    req = N - zlen\n",
    "    i = 0\n",
    "    while i < req:\n",
    "        S = \"0\" + S\n",
    "        i += 1\n",
    "        global K\n",
    "        K = list(S)\n",
    "    K=list(S)\n",
    "    print (S)\n",
    "\n",
    "#An input prompt asking the user to enter 13 digits, if the requirement is not met, the prompt will be asked again or fill the empty spaces with 0's.\n",
    "X = input(str(\"Enter 13 digits . . . \"))\n",
    "if (len(X)>13):\n",
    "    X=input(str(\"Enter 13 digits . . .\"))\n",
    "else:\n",
    "        PadLeft(X, 13)"
   ]
  }
 ],
 "metadata": {
  "language_info": {
   "name": "python"
  },
  "orig_nbformat": 4
 },
 "nbformat": 4,
 "nbformat_minor": 2
}
