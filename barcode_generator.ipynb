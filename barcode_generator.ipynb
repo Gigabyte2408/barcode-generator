{
 "cells": [
  {
   "cell_type": "code",
   "execution_count": null,
   "metadata": {},
   "outputs": [],
   "source": [
    "from Graphics import *\n",
    "L_Group = [\"LLLLLL\", \"LLGLGG\", \"LLGGLG\", \"LLGGGL\", \"LGLLGG\", \\\n",
    "         \"LGGLLG\", \"LGGGLL\", \"LGLGLG\", \"LGLGGL\", \"LGGLGL\"]\n",
    "\n",
    "R_Group = [\"RRRRRR\", \"RRRRRR\", \"RRRRRR\", \"RRRRRR\", \"RRRRRR\", \\\n",
    "         \"RRRRRR\", \"RRRRRR\", \"RRRRRR\", \"RRRRRR\", \"RRRRRR\"]\n",
    "global L_Code\n",
    "L_Code = [\"WWWBBWB\", \"WWBBWWB\", \"WWBWWBB\", \"WBBBBWB\", \"WBWWWBB\", \\\n",
    "         \"WBBWWWB\", \"WBWBBBB\", \"WBBBWBB\", \"WBBWBBB\", \"WWWBWBB\"]\n",
    "\n",
    "G_Code = [\"WBWWBBB\", \"WBBWWBB\", \"WWBBWBB\", \"WBWWWWB\", \"WWBBBWB\", \\\n",
    "         \"WBBBWWB\", \"WWWWBWB\", \"WWBWWWB\", \"WWWBWWB\", \"WWBWBBB\"]\n",
    "\n",
    "R_Code = [\"BBBWWBW\", \"BBWWBBW\", \"BBWBBWW\", \"BWWWWBW\", \"BWBBBWW\", \\\n",
    "         \"BWWBBBW\", \"BWBWWWW\", \"BWWWBWW\", \"BWWBWWW\", \"BBBWBWW\"]"
   ]
  }
 ],
 "metadata": {
  "language_info": {
   "name": "python"
  },
  "orig_nbformat": 4
 },
 "nbformat": 4,
 "nbformat_minor": 2
}
